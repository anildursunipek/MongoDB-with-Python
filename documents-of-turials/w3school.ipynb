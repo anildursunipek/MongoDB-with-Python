{
 "cells": [
  {
   "attachments": {},
   "cell_type": "markdown",
   "metadata": {},
   "source": [
    "* MongoDB stores data in JSON-like documents, which makes the database very flexible and scalable.\n",
    "* Python need a MongoDB driver to access the MongoDB database.\n",
    "* Pymongo is MongoDB driver\n",
    "* pip install pymongo"
   ]
  },
  {
   "cell_type": "code",
   "execution_count": 135,
   "metadata": {},
   "outputs": [],
   "source": [
    "# import drvier \n",
    "import pymongo"
   ]
  },
  {
   "attachments": {},
   "cell_type": "markdown",
   "metadata": {},
   "source": [
    "### Creating Database"
   ]
  },
  {
   "cell_type": "code",
   "execution_count": 136,
   "metadata": {},
   "outputs": [],
   "source": [
    "connectionString = \"mongodb://localhost:27017\"\n",
    "myClient = pymongo.MongoClient(connectionString)\n",
    "# Note: In MongoDB, a database is not created until it gets content!. MongoDB waits until you have created a collection (table), with at least one document (record) before it actually creates the database (and collection)."
   ]
  },
  {
   "attachments": {},
   "cell_type": "markdown",
   "metadata": {},
   "source": [
    "#### Check if database exit"
   ]
  },
  {
   "cell_type": "code",
   "execution_count": 137,
   "metadata": {},
   "outputs": [
    {
     "name": "stdout",
     "output_type": "stream",
     "text": [
      "['admin', 'config', 'local', 'test', 'w3school']\n"
     ]
    }
   ],
   "source": [
    "print(myClient.list_database_names())"
   ]
  },
  {
   "cell_type": "code",
   "execution_count": 138,
   "metadata": {},
   "outputs": [
    {
     "name": "stdout",
     "output_type": "stream",
     "text": [
      "w3school exits.\n"
     ]
    }
   ],
   "source": [
    "databaseName = \"w3school\"\n",
    "if databaseName in myClient.list_database_names():\n",
    "    print(f\"{databaseName} exits.\")"
   ]
  },
  {
   "attachments": {},
   "cell_type": "markdown",
   "metadata": {},
   "source": [
    "A collection in mongoDB is the same as a table in SQL database"
   ]
  },
  {
   "attachments": {},
   "cell_type": "markdown",
   "metadata": {},
   "source": [
    "### Creating A Collection"
   ]
  },
  {
   "cell_type": "code",
   "execution_count": 139,
   "metadata": {},
   "outputs": [
    {
     "name": "stdout",
     "output_type": "stream",
     "text": [
      "['myCollection']\n"
     ]
    }
   ],
   "source": [
    "# MongoDB will create the collection if it doesn't exit.\n",
    "db = myClient[\"w3school\"]\n",
    "print(db.list_collection_names())\n"
   ]
  },
  {
   "cell_type": "code",
   "execution_count": 140,
   "metadata": {},
   "outputs": [
    {
     "name": "stdout",
     "output_type": "stream",
     "text": [
      "['myCollection']\n"
     ]
    }
   ],
   "source": [
    "customers = db[\"customers\"]\n",
    "print(db.list_collection_names())\n",
    "# Important: In MongoDB, a collection is not created until it gets content!"
   ]
  },
  {
   "attachments": {},
   "cell_type": "markdown",
   "metadata": {},
   "source": [
    "A document in MongoDB is the same as record in SQL database."
   ]
  },
  {
   "attachments": {},
   "cell_type": "markdown",
   "metadata": {},
   "source": [
    "### Insert Into Collection"
   ]
  },
  {
   "cell_type": "code",
   "execution_count": 141,
   "metadata": {},
   "outputs": [
    {
     "data": {
      "text/plain": [
       "<pymongo.results.InsertOneResult at 0x1afa780bee0>"
      ]
     },
     "execution_count": 141,
     "metadata": {},
     "output_type": "execute_result"
    }
   ],
   "source": [
    "newCustomer = {\"name\": \"Jake\", \"surname\":\"Peralta\"}\n",
    "customers.insert_one(newCustomer)"
   ]
  },
  {
   "attachments": {},
   "cell_type": "markdown",
   "metadata": {},
   "source": [
    "!!! The insert_one() method returns a InsertOneResult object, which has a property, inserted_id, that holds the id of the inserted document."
   ]
  },
  {
   "cell_type": "code",
   "execution_count": 142,
   "metadata": {},
   "outputs": [
    {
     "name": "stdout",
     "output_type": "stream",
     "text": [
      "63f8d8eebd736fedc0ec0c68\n"
     ]
    }
   ],
   "source": [
    "# insert_one()\n",
    "newCustomer = {\"name\": \"Michael\", \"surname\":\"Scofield\"}\n",
    "returnedValue = customers.insert_one(newCustomer)\n",
    "print(returnedValue.inserted_id)"
   ]
  },
  {
   "cell_type": "code",
   "execution_count": 143,
   "metadata": {},
   "outputs": [
    {
     "name": "stdout",
     "output_type": "stream",
     "text": [
      "[ObjectId('63f8d8eebd736fedc0ec0c69'), ObjectId('63f8d8eebd736fedc0ec0c6a'), ObjectId('63f8d8eebd736fedc0ec0c6b'), ObjectId('63f8d8eebd736fedc0ec0c6c'), ObjectId('63f8d8eebd736fedc0ec0c6d'), ObjectId('63f8d8eebd736fedc0ec0c6e'), ObjectId('63f8d8eebd736fedc0ec0c6f'), ObjectId('63f8d8eebd736fedc0ec0c70'), ObjectId('63f8d8eebd736fedc0ec0c71'), ObjectId('63f8d8eebd736fedc0ec0c72'), ObjectId('63f8d8eebd736fedc0ec0c73'), ObjectId('63f8d8eebd736fedc0ec0c74')]\n"
     ]
    }
   ],
   "source": [
    "# insert_many()\n",
    "newCustomers =  [\n",
    "  { \"name\": \"Amy\", \"address\": \"Apple st 652\"},\n",
    "  { \"name\": \"Hannah\", \"address\": \"Mountain 21\"},\n",
    "  { \"name\": \"Michael\", \"address\": \"Valley 345\"},\n",
    "  { \"name\": \"Sandy\", \"address\": \"Ocean blvd 2\"},\n",
    "  { \"name\": \"Betty\", \"address\": \"Green Grass 1\"},\n",
    "  { \"name\": \"Richard\", \"address\": \"Sky st 331\"},\n",
    "  { \"name\": \"Susan\", \"address\": \"One way 98\"},\n",
    "  { \"name\": \"Vicky\", \"address\": \"Yellow Garden 2\"},\n",
    "  { \"name\": \"Ben\", \"address\": \"Park Lane 38\"},\n",
    "  { \"name\": \"William\", \"address\": \"Central st 954\"},\n",
    "  { \"name\": \"Chuck\", \"address\": \"Main Road 989\"},\n",
    "  { \"name\": \"Viola\", \"address\": \"Sideway 1633\"}\n",
    "] \n",
    "returnedValue = customers.insert_many(newCustomers)\n",
    "print(returnedValue.inserted_ids)"
   ]
  },
  {
   "attachments": {},
   "cell_type": "markdown",
   "metadata": {},
   "source": [
    "### Insert Multiple Documents, with Specified IDs"
   ]
  },
  {
   "cell_type": "code",
   "execution_count": 144,
   "metadata": {},
   "outputs": [],
   "source": [
    "newCustomers = [\n",
    "  { \"_id\": 1, \"name\": \"John\", \"address\": \"Highway 37\"},\n",
    "  { \"_id\": 2, \"name\": \"Peter\", \"address\": \"Lowstreet 27\"},\n",
    "  { \"_id\": 3, \"name\": \"Amy\", \"address\": \"Apple st 652\"},\n",
    "  { \"_id\": 4, \"name\": \"Hannah\", \"address\": \"Mountain 21\"},\n",
    "  { \"_id\": 5, \"name\": \"Michael\", \"address\": \"Valley 345\"},\n",
    "  { \"_id\": 6, \"name\": \"Sandy\", \"address\": \"Ocean blvd 2\"},\n",
    "  { \"_id\": 7, \"name\": \"Betty\", \"address\": \"Green Grass 1\"},\n",
    "  { \"_id\": 8, \"name\": \"Richard\", \"address\": \"Sky st 331\"},\n",
    "  { \"_id\": 9, \"name\": \"Susan\", \"address\": \"One way 98\"},\n",
    "  { \"_id\": 10, \"name\": \"Vicky\", \"address\": \"Yellow Garden 2\"},\n",
    "  { \"_id\": 11, \"name\": \"Ben\", \"address\": \"Park Lane 38\"},\n",
    "  { \"_id\": 12, \"name\": \"William\", \"address\": \"Central st 954\"},\n",
    "  { \"_id\": 13, \"name\": \"Chuck\", \"address\": \"Main Road 989\"},\n",
    "  { \"_id\": 14, \"name\": \"Viola\", \"address\": \"Sideway 1633\"}\n",
    "]\n",
    "# The values has to be unique !!!!!\n",
    "returnedValue = customers.insert_many(newCustomers)"
   ]
  },
  {
   "cell_type": "code",
   "execution_count": 145,
   "metadata": {},
   "outputs": [
    {
     "name": "stdout",
     "output_type": "stream",
     "text": [
      "[1, 2, 3, 4, 5, 6, 7, 8, 9, 10, 11, 12, 13, 14]\n"
     ]
    }
   ],
   "source": [
    "print(returnedValue.inserted_ids)"
   ]
  },
  {
   "attachments": {},
   "cell_type": "markdown",
   "metadata": {},
   "source": [
    "### Find\n",
    "Just like the SELECT statement is used to find data in a table in a MySQL database."
   ]
  },
  {
   "cell_type": "code",
   "execution_count": 30,
   "metadata": {},
   "outputs": [
    {
     "name": "stdout",
     "output_type": "stream",
     "text": [
      "{'_id': ObjectId('63f8c01ebd736fedc0ec0c1c'), 'name': 'Jake', 'surname': 'Peralta'}\n"
     ]
    }
   ],
   "source": [
    "# The find_one() method returns the first occurrence in the selection.\n",
    "result = customers.find_one()\n",
    "print(result)\n"
   ]
  },
  {
   "cell_type": "code",
   "execution_count": 37,
   "metadata": {},
   "outputs": [
    {
     "name": "stdout",
     "output_type": "stream",
     "text": [
      "<pymongo.cursor.Cursor object at 0x000001AFA7CC3BE0>\n",
      "{'_id': ObjectId('63f8c01ebd736fedc0ec0c1c'), 'name': 'Jake', 'surname': 'Peralta'}\n",
      "{'_id': ObjectId('63f8c0a3bd736fedc0ec0c1d'), 'name': 'Michael', 'surname': 'Scofield'}\n",
      "{'_id': ObjectId('63f8c139bd736fedc0ec0c1e'), 'name': 'Amy', 'address': 'Apple st 652'}\n",
      "{'_id': ObjectId('63f8c139bd736fedc0ec0c1f'), 'name': 'Hannah', 'address': 'Mountain 21'}\n",
      "{'_id': ObjectId('63f8c139bd736fedc0ec0c20'), 'name': 'Michael', 'address': 'Valley 345'}\n",
      "{'_id': ObjectId('63f8c139bd736fedc0ec0c21'), 'name': 'Sandy', 'address': 'Ocean blvd 2'}\n",
      "{'_id': ObjectId('63f8c139bd736fedc0ec0c22'), 'name': 'Betty', 'address': 'Green Grass 1'}\n",
      "{'_id': ObjectId('63f8c139bd736fedc0ec0c23'), 'name': 'Richard', 'address': 'Sky st 331'}\n",
      "{'_id': ObjectId('63f8c139bd736fedc0ec0c24'), 'name': 'Susan', 'address': 'One way 98'}\n",
      "{'_id': ObjectId('63f8c139bd736fedc0ec0c25'), 'name': 'Vicky', 'address': 'Yellow Garden 2'}\n",
      "{'_id': ObjectId('63f8c139bd736fedc0ec0c26'), 'name': 'Ben', 'address': 'Park Lane 38'}\n",
      "{'_id': ObjectId('63f8c139bd736fedc0ec0c27'), 'name': 'William', 'address': 'Central st 954'}\n",
      "{'_id': ObjectId('63f8c139bd736fedc0ec0c28'), 'name': 'Chuck', 'address': 'Main Road 989'}\n",
      "{'_id': ObjectId('63f8c139bd736fedc0ec0c29'), 'name': 'Viola', 'address': 'Sideway 1633'}\n",
      "{'_id': 1, 'name': 'John', 'address': 'Highway 37'}\n",
      "{'_id': 2, 'name': 'Peter', 'address': 'Lowstreet 27'}\n",
      "{'_id': 3, 'name': 'Amy', 'address': 'Apple st 652'}\n",
      "{'_id': 4, 'name': 'Hannah', 'address': 'Mountain 21'}\n",
      "{'_id': 5, 'name': 'Michael', 'address': 'Valley 345'}\n",
      "{'_id': 6, 'name': 'Sandy', 'address': 'Ocean blvd 2'}\n",
      "{'_id': 7, 'name': 'Betty', 'address': 'Green Grass 1'}\n",
      "{'_id': 8, 'name': 'Richard', 'address': 'Sky st 331'}\n",
      "{'_id': 9, 'name': 'Susan', 'address': 'One way 98'}\n",
      "{'_id': 10, 'name': 'Vicky', 'address': 'Yellow Garden 2'}\n",
      "{'_id': 11, 'name': 'Ben', 'address': 'Park Lane 38'}\n",
      "{'_id': 12, 'name': 'William', 'address': 'Central st 954'}\n",
      "{'_id': 13, 'name': 'Chuck', 'address': 'Main Road 989'}\n",
      "{'_id': 14, 'name': 'Viola', 'address': 'Sideway 1633'}\n"
     ]
    }
   ],
   "source": [
    "# The find() method returns all occurrences in the selection.\n",
    "# The first parameter of the find() method is a query object. In this example we use an empty query object, which selects all documents in the collection.\n",
    "# No parameters in the find() method gives you the same result as SELECT * in MySQL.\n",
    "result = customers.find()\n",
    "# Find method returns iterable object.\n",
    "print(result)\n",
    "for document in result:\n",
    "    print(document)"
   ]
  },
  {
   "attachments": {},
   "cell_type": "markdown",
   "metadata": {},
   "source": [
    "The second parameter of the find() method is an object describing which fields to include in the result."
   ]
  },
  {
   "cell_type": "code",
   "execution_count": 56,
   "metadata": {},
   "outputs": [
    {
     "name": "stdout",
     "output_type": "stream",
     "text": [
      "{'_id': ObjectId('63f8c01ebd736fedc0ec0c1c'), 'name': 'Jake'}\n",
      "{'_id': ObjectId('63f8c0a3bd736fedc0ec0c1d'), 'name': 'Michael'}\n",
      "{'_id': ObjectId('63f8c139bd736fedc0ec0c1e'), 'name': 'Amy', 'address': 'Apple st 652'}\n",
      "{'_id': ObjectId('63f8c139bd736fedc0ec0c1f'), 'name': 'Hannah', 'address': 'Mountain 21'}\n",
      "{'_id': ObjectId('63f8c139bd736fedc0ec0c20'), 'name': 'Michael', 'address': 'Valley 345'}\n",
      "{'_id': ObjectId('63f8c139bd736fedc0ec0c21'), 'name': 'Sandy', 'address': 'Ocean blvd 2'}\n",
      "{'_id': ObjectId('63f8c139bd736fedc0ec0c22'), 'name': 'Betty', 'address': 'Green Grass 1'}\n",
      "{'_id': ObjectId('63f8c139bd736fedc0ec0c23'), 'name': 'Richard', 'address': 'Sky st 331'}\n",
      "{'_id': ObjectId('63f8c139bd736fedc0ec0c24'), 'name': 'Susan', 'address': 'One way 98'}\n",
      "{'_id': ObjectId('63f8c139bd736fedc0ec0c25'), 'name': 'Vicky', 'address': 'Yellow Garden 2'}\n",
      "{'_id': ObjectId('63f8c139bd736fedc0ec0c26'), 'name': 'Ben', 'address': 'Park Lane 38'}\n",
      "{'_id': ObjectId('63f8c139bd736fedc0ec0c27'), 'name': 'William', 'address': 'Central st 954'}\n",
      "{'_id': ObjectId('63f8c139bd736fedc0ec0c28'), 'name': 'Chuck', 'address': 'Main Road 989'}\n",
      "{'_id': ObjectId('63f8c139bd736fedc0ec0c29'), 'name': 'Viola', 'address': 'Sideway 1633'}\n",
      "{'_id': 1, 'name': 'John', 'address': 'Highway 37'}\n",
      "{'_id': 2, 'name': 'Peter', 'address': 'Lowstreet 27'}\n",
      "{'_id': 3, 'name': 'Amy', 'address': 'Apple st 652'}\n",
      "{'_id': 4, 'name': 'Hannah', 'address': 'Mountain 21'}\n",
      "{'_id': 5, 'name': 'Michael', 'address': 'Valley 345'}\n",
      "{'_id': 6, 'name': 'Sandy', 'address': 'Ocean blvd 2'}\n",
      "{'_id': 7, 'name': 'Betty', 'address': 'Green Grass 1'}\n",
      "{'_id': 8, 'name': 'Richard', 'address': 'Sky st 331'}\n",
      "{'_id': 9, 'name': 'Susan', 'address': 'One way 98'}\n",
      "{'_id': 10, 'name': 'Vicky', 'address': 'Yellow Garden 2'}\n",
      "{'_id': 11, 'name': 'Ben', 'address': 'Park Lane 38'}\n",
      "{'_id': 12, 'name': 'William', 'address': 'Central st 954'}\n",
      "{'_id': 13, 'name': 'Chuck', 'address': 'Main Road 989'}\n",
      "{'_id': 14, 'name': 'Viola', 'address': 'Sideway 1633'}\n"
     ]
    }
   ],
   "source": [
    "for document in customers.find({},{\"_id\":1, \"name\":2, \"address\":3}):\n",
    "    print(document)"
   ]
  },
  {
   "attachments": {},
   "cell_type": "markdown",
   "metadata": {},
   "source": [
    "The first argument of the find() method is query object."
   ]
  },
  {
   "attachments": {},
   "cell_type": "markdown",
   "metadata": {},
   "source": [
    "### Query\n",
    "The first argument of the find() method is a query object, and is used to limit the search."
   ]
  },
  {
   "cell_type": "code",
   "execution_count": 57,
   "metadata": {},
   "outputs": [
    {
     "name": "stdout",
     "output_type": "stream",
     "text": [
      "{'_id': ObjectId('63f8c139bd736fedc0ec0c26'), 'name': 'Ben', 'address': 'Park Lane 38'}\n",
      "{'_id': 11, 'name': 'Ben', 'address': 'Park Lane 38'}\n"
     ]
    }
   ],
   "source": [
    "query = {\"address\": \"Park Lane 38\"}\n",
    "result = customers.find(query)\n",
    "for document in result:\n",
    "    print(document)"
   ]
  },
  {
   "cell_type": "code",
   "execution_count": 60,
   "metadata": {},
   "outputs": [
    {
     "name": "stdout",
     "output_type": "stream",
     "text": [
      "{'_id': ObjectId('63f8c139bd736fedc0ec0c20'), 'name': 'Michael', 'address': 'Valley 345'}\n",
      "{'_id': ObjectId('63f8c139bd736fedc0ec0c23'), 'name': 'Richard', 'address': 'Sky st 331'}\n",
      "{'_id': ObjectId('63f8c139bd736fedc0ec0c25'), 'name': 'Vicky', 'address': 'Yellow Garden 2'}\n",
      "{'_id': ObjectId('63f8c139bd736fedc0ec0c29'), 'name': 'Viola', 'address': 'Sideway 1633'}\n",
      "{'_id': 5, 'name': 'Michael', 'address': 'Valley 345'}\n",
      "{'_id': 8, 'name': 'Richard', 'address': 'Sky st 331'}\n",
      "{'_id': 10, 'name': 'Vicky', 'address': 'Yellow Garden 2'}\n",
      "{'_id': 14, 'name': 'Viola', 'address': 'Sideway 1633'}\n"
     ]
    }
   ],
   "source": [
    "# Advance query with modifier\n",
    "query = {\"address\": {\"$gt\": \"S\"}}\n",
    "result = customers.find(query)\n",
    "for document in result:\n",
    "    print(document)"
   ]
  },
  {
   "attachments": {},
   "cell_type": "markdown",
   "metadata": {},
   "source": [
    "### Filter with Regular Expressions\n",
    "Regular expressions can only be used to query strings."
   ]
  },
  {
   "cell_type": "code",
   "execution_count": 61,
   "metadata": {},
   "outputs": [
    {
     "name": "stdout",
     "output_type": "stream",
     "text": [
      "{'_id': ObjectId('63f8c139bd736fedc0ec0c23'), 'name': 'Richard', 'address': 'Sky st 331'}\n",
      "{'_id': ObjectId('63f8c139bd736fedc0ec0c29'), 'name': 'Viola', 'address': 'Sideway 1633'}\n",
      "{'_id': 8, 'name': 'Richard', 'address': 'Sky st 331'}\n",
      "{'_id': 14, 'name': 'Viola', 'address': 'Sideway 1633'}\n"
     ]
    }
   ],
   "source": [
    "query = {\"address\": {\"$regex\": \"^S\"}}\n",
    "result = customers.find(query)\n",
    "for document in result:\n",
    "    print(document)"
   ]
  },
  {
   "attachments": {},
   "cell_type": "markdown",
   "metadata": {},
   "source": [
    "### Sort"
   ]
  },
  {
   "cell_type": "code",
   "execution_count": 70,
   "metadata": {},
   "outputs": [
    {
     "name": "stdout",
     "output_type": "stream",
     "text": [
      "{'name': 'Amy'}\n",
      "{'name': 'Amy'}\n",
      "{'name': 'Ben'}\n",
      "{'name': 'Ben'}\n",
      "{'name': 'Betty'}\n",
      "{'name': 'Betty'}\n",
      "{'name': 'Chuck'}\n",
      "{'name': 'Chuck'}\n",
      "{'name': 'Hannah'}\n",
      "{'name': 'Hannah'}\n",
      "{'name': 'Jake'}\n",
      "{'name': 'John'}\n",
      "{'name': 'Michael'}\n",
      "{'name': 'Michael'}\n",
      "{'name': 'Michael'}\n",
      "{'name': 'Peter'}\n",
      "{'name': 'Richard'}\n",
      "{'name': 'Richard'}\n",
      "{'name': 'Sandy'}\n",
      "{'name': 'Sandy'}\n",
      "{'name': 'Susan'}\n",
      "{'name': 'Susan'}\n",
      "{'name': 'Vicky'}\n",
      "{'name': 'Vicky'}\n",
      "{'name': 'Viola'}\n",
      "{'name': 'Viola'}\n",
      "{'name': 'William'}\n",
      "{'name': 'William'}\n"
     ]
    }
   ],
   "source": [
    "result = customers.find({},{\"_id\":0, \"name\":1}).sort(\"name\", 1) # sort(fieldname, direction)\n",
    "# 1 -> ascending , -1 -> descending\n",
    "for document in result:\n",
    "    print(document)"
   ]
  },
  {
   "attachments": {},
   "cell_type": "markdown",
   "metadata": {},
   "source": [
    "### Delete Document\n",
    "* The first parameter of the delete_one() method is a query object defining which document to delete.\n",
    "* If the query finds more than one document, only the first occurrence is deleted."
   ]
  },
  {
   "cell_type": "code",
   "execution_count": 101,
   "metadata": {},
   "outputs": [
    {
     "name": "stdout",
     "output_type": "stream",
     "text": [
      "1\n",
      "{'n': 1, 'ok': 1.0}\n"
     ]
    }
   ],
   "source": [
    "query = {\"address\": \"Mountain 21\"}\n",
    "result = customers.delete_one(query)\n",
    "print(result.deleted_count)\n",
    "print(result.raw_result)"
   ]
  },
  {
   "cell_type": "code",
   "execution_count": 102,
   "metadata": {},
   "outputs": [
    {
     "name": "stdout",
     "output_type": "stream",
     "text": [
      "6 documents deleted.\n"
     ]
    }
   ],
   "source": [
    "query = {\"address\": {\"$regex\": \"^S\"}}\n",
    "result = customers.delete_many(query)\n",
    "print(result.deleted_count, \"documents deleted.\")"
   ]
  },
  {
   "attachments": {},
   "cell_type": "markdown",
   "metadata": {},
   "source": [
    "### Delete All Documents"
   ]
  },
  {
   "cell_type": "code",
   "execution_count": 133,
   "metadata": {},
   "outputs": [
    {
     "name": "stdout",
     "output_type": "stream",
     "text": [
      "28 documents deleted.\n"
     ]
    }
   ],
   "source": [
    "query = {}\n",
    "result = customers.delete_many(query)\n",
    "print(result.deleted_count, \"documents deleted.\")"
   ]
  },
  {
   "attachments": {},
   "cell_type": "markdown",
   "metadata": {},
   "source": [
    "### Delete Collection\n",
    "You can delete a table, or collection as it is called in MongoDB, by using the drop() method."
   ]
  },
  {
   "cell_type": "code",
   "execution_count": 134,
   "metadata": {},
   "outputs": [
    {
     "name": "stdout",
     "output_type": "stream",
     "text": [
      "['customers', 'myCollection']\n",
      "['myCollection']\n"
     ]
    }
   ],
   "source": [
    "# Before deleting collection\n",
    "print(db.list_collection_names())\n",
    "customers.drop()\n",
    "# After deleting collection\n",
    "print(db.list_collection_names())"
   ]
  },
  {
   "attachments": {},
   "cell_type": "markdown",
   "metadata": {},
   "source": [
    "### Update Document\n",
    "* You can update a record, or document as it is called in MongoDB, by using the update_one() method.\n",
    "* The first parameter of the update_one() method is a query object defining which document to update."
   ]
  },
  {
   "cell_type": "code",
   "execution_count": 146,
   "metadata": {},
   "outputs": [
    {
     "name": "stdout",
     "output_type": "stream",
     "text": [
      "28\n"
     ]
    }
   ],
   "source": [
    "print(customers.count_documents({}))"
   ]
  },
  {
   "cell_type": "code",
   "execution_count": 147,
   "metadata": {},
   "outputs": [
    {
     "name": "stdout",
     "output_type": "stream",
     "text": [
      "Before updating...\n",
      "{'_id': ObjectId('63f8d8eebd736fedc0ec0c6b'), 'name': 'Michael', 'address': 'Valley 345'}\n",
      "{'_id': 5, 'name': 'Michael', 'address': 'Valley 345'}\n",
      "After updating...\n",
      "{'_id': 5, 'name': 'Michael', 'address': 'Valley 345'}\n"
     ]
    }
   ],
   "source": [
    "# update_one(query, newValue)\n",
    "query= {\"address\": \"Valley 345\"}\n",
    "newValue= {\"$set\": {\"address\": \"Canyon123\"}}\n",
    "\n",
    "print(\"Before updating...\")\n",
    "result = customers.find(query)\n",
    "for document in result:\n",
    "    print(document)\n",
    "# Update happening here and just 1 document updating\n",
    "customers.update_one(query, newValue)\n",
    "\n",
    "print(\"After updating...\")\n",
    "result = customers.find(query)\n",
    "# First found document updated\n",
    "for document in result:\n",
    "    print(document)"
   ]
  },
  {
   "cell_type": "code",
   "execution_count": 148,
   "metadata": {},
   "outputs": [
    {
     "name": "stdout",
     "output_type": "stream",
     "text": [
      "Before Updating....\n",
      "{'name': 'Richard'}\n",
      "{'name': 'Viola'}\n",
      "{'name': 'Richard'}\n",
      "{'name': 'Viola'}\n",
      "After Updating....\n",
      "{'name': 'Minnie'}\n",
      "{'name': 'Minnie'}\n",
      "{'name': 'Minnie'}\n",
      "{'name': 'Minnie'}\n"
     ]
    }
   ],
   "source": [
    "print(\"Before Updating....\")\n",
    "query = {\"address\": {\"$regex\": \"^S\"}}\n",
    "result = customers.find(query, {\"_id\":0,\"name\":1})\n",
    "for document in result:\n",
    "    print(document)\n",
    "\n",
    "# Update all documents where the address starts with letter \"S\"\n",
    "newValue = {\"$set\": {\"name\": \"Minnie\"}}\n",
    "customers.update_many(query, newValue)\n",
    "\n",
    "print(\"After Updating....\")\n",
    "result = customers.find(query, {\"_id\":0,\"name\":1})\n",
    "for document in result:\n",
    "    print(document)"
   ]
  },
  {
   "attachments": {},
   "cell_type": "markdown",
   "metadata": {},
   "source": [
    "### Limit The Result\n",
    "The limit() method takes one parameter, a number defining how many documents to return."
   ]
  },
  {
   "cell_type": "code",
   "execution_count": 151,
   "metadata": {},
   "outputs": [
    {
     "name": "stdout",
     "output_type": "stream",
     "text": [
      "{'_id': ObjectId('63f8d8eebd736fedc0ec0c67'), 'name': 'Jake', 'surname': 'Peralta'}\n",
      "{'_id': ObjectId('63f8d8eebd736fedc0ec0c68'), 'name': 'Michael', 'surname': 'Scofield'}\n",
      "{'_id': ObjectId('63f8d8eebd736fedc0ec0c69'), 'name': 'Amy', 'address': 'Apple st 652'}\n"
     ]
    }
   ],
   "source": [
    "query = {}\n",
    "result = customers.find(query).limit(3)\n",
    "for document in result:\n",
    "    print(document)"
   ]
  },
  {
   "cell_type": "code",
   "execution_count": null,
   "metadata": {},
   "outputs": [],
   "source": []
  }
 ],
 "metadata": {
  "kernelspec": {
   "display_name": "Python 3",
   "language": "python",
   "name": "python3"
  },
  "language_info": {
   "codemirror_mode": {
    "name": "ipython",
    "version": 3
   },
   "file_extension": ".py",
   "mimetype": "text/x-python",
   "name": "python",
   "nbconvert_exporter": "python",
   "pygments_lexer": "ipython3",
   "version": "3.10.7"
  },
  "orig_nbformat": 4,
  "vscode": {
   "interpreter": {
    "hash": "11ce9945abcf78c1e639532b545791fd00a318580e562a47468254d3cee18f88"
   }
  }
 },
 "nbformat": 4,
 "nbformat_minor": 2
}
